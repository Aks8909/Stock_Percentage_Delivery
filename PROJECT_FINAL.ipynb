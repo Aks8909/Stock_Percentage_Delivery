{
 "cells": [
  {
   "cell_type": "code",
   "execution_count": 149,
   "id": "be1d7c34",
   "metadata": {},
   "outputs": [],
   "source": [
    "import numpy as np\n",
    "import matplotlib.pyplot as plt\n",
    "import pandas as pd\n",
    "import math   \n",
    "import seaborn as sns"
   ]
  },
  {
   "cell_type": "code",
   "execution_count": 150,
   "id": "053de085",
   "metadata": {},
   "outputs": [
    {
     "data": {
      "text/html": [
       "<div>\n",
       "<style scoped>\n",
       "    .dataframe tbody tr th:only-of-type {\n",
       "        vertical-align: middle;\n",
       "    }\n",
       "\n",
       "    .dataframe tbody tr th {\n",
       "        vertical-align: top;\n",
       "    }\n",
       "\n",
       "    .dataframe thead th {\n",
       "        text-align: right;\n",
       "    }\n",
       "</style>\n",
       "<table border=\"1\" class=\"dataframe\">\n",
       "  <thead>\n",
       "    <tr style=\"text-align: right;\">\n",
       "      <th></th>\n",
       "      <th>Symbol</th>\n",
       "      <th>Prev Close</th>\n",
       "      <th>Open</th>\n",
       "      <th>High</th>\n",
       "      <th>Low</th>\n",
       "      <th>Last</th>\n",
       "      <th>Close</th>\n",
       "      <th>VWAP</th>\n",
       "      <th>Volume</th>\n",
       "      <th>Deliverable Volume</th>\n",
       "      <th>%Deliverable</th>\n",
       "    </tr>\n",
       "  </thead>\n",
       "  <tbody>\n",
       "    <tr>\n",
       "      <th>0</th>\n",
       "      <td>BAJAJ-AUTO</td>\n",
       "      <td>1541.00</td>\n",
       "      <td>1557.0</td>\n",
       "      <td>1564.65</td>\n",
       "      <td>1470.00</td>\n",
       "      <td>1474.95</td>\n",
       "      <td>1476.50</td>\n",
       "      <td>1499.50</td>\n",
       "      <td>982492.0</td>\n",
       "      <td>NaN</td>\n",
       "      <td>0.5877</td>\n",
       "    </tr>\n",
       "    <tr>\n",
       "      <th>1</th>\n",
       "      <td>BAJAJ-AUTO</td>\n",
       "      <td>1476.50</td>\n",
       "      <td>1479.0</td>\n",
       "      <td>1484.80</td>\n",
       "      <td>1420.65</td>\n",
       "      <td>1433.05</td>\n",
       "      <td>1429.80</td>\n",
       "      <td>1436.34</td>\n",
       "      <td>1781719.0</td>\n",
       "      <td>1036859.0</td>\n",
       "      <td>0.5819</td>\n",
       "    </tr>\n",
       "    <tr>\n",
       "      <th>2</th>\n",
       "      <td>BAJAJ-AUTO</td>\n",
       "      <td>1429.80</td>\n",
       "      <td>1430.0</td>\n",
       "      <td>1430.00</td>\n",
       "      <td>1368.30</td>\n",
       "      <td>1380.00</td>\n",
       "      <td>1374.50</td>\n",
       "      <td>1388.79</td>\n",
       "      <td>1518567.0</td>\n",
       "      <td>936532.0</td>\n",
       "      <td>0.6167</td>\n",
       "    </tr>\n",
       "    <tr>\n",
       "      <th>3</th>\n",
       "      <td>BAJAJ-AUTO</td>\n",
       "      <td>1374.50</td>\n",
       "      <td>1383.2</td>\n",
       "      <td>1391.25</td>\n",
       "      <td>1321.70</td>\n",
       "      <td>1324.50</td>\n",
       "      <td>1327.85</td>\n",
       "      <td>1337.20</td>\n",
       "      <td>2462539.0</td>\n",
       "      <td>1330644.0</td>\n",
       "      <td>0.5404</td>\n",
       "    </tr>\n",
       "    <tr>\n",
       "      <th>4</th>\n",
       "      <td>BAJAJ-AUTO</td>\n",
       "      <td>1327.85</td>\n",
       "      <td>1330.0</td>\n",
       "      <td>1352.00</td>\n",
       "      <td>1302.00</td>\n",
       "      <td>1311.00</td>\n",
       "      <td>1316.60</td>\n",
       "      <td>1320.40</td>\n",
       "      <td>2314796.0</td>\n",
       "      <td>1184020.0</td>\n",
       "      <td>0.5115</td>\n",
       "    </tr>\n",
       "  </tbody>\n",
       "</table>\n",
       "</div>"
      ],
      "text/plain": [
       "       Symbol  Prev Close    Open     High      Low     Last    Close  \\\n",
       "0  BAJAJ-AUTO     1541.00  1557.0  1564.65  1470.00  1474.95  1476.50   \n",
       "1  BAJAJ-AUTO     1476.50  1479.0  1484.80  1420.65  1433.05  1429.80   \n",
       "2  BAJAJ-AUTO     1429.80  1430.0  1430.00  1368.30  1380.00  1374.50   \n",
       "3  BAJAJ-AUTO     1374.50  1383.2  1391.25  1321.70  1324.50  1327.85   \n",
       "4  BAJAJ-AUTO     1327.85  1330.0  1352.00  1302.00  1311.00  1316.60   \n",
       "\n",
       "      VWAP     Volume  Deliverable Volume  %Deliverable  \n",
       "0  1499.50   982492.0                 NaN        0.5877  \n",
       "1  1436.34  1781719.0           1036859.0        0.5819  \n",
       "2  1388.79  1518567.0            936532.0        0.6167  \n",
       "3  1337.20  2462539.0           1330644.0        0.5404  \n",
       "4  1320.40  2314796.0           1184020.0        0.5115  "
      ]
     },
     "execution_count": 150,
     "metadata": {},
     "output_type": "execute_result"
    }
   ],
   "source": [
    "dataset = pd.read_csv(r'C:\\Users\\win10\\OneDrive\\Desktop\\% DELIVERY\\SHARES_DATASET.csv')\n",
    "X = dataset.iloc[:, :-1].values\n",
    "y = dataset.iloc[:, -1].values\n",
    "dataset.head()"
   ]
  },
  {
   "cell_type": "code",
   "execution_count": 151,
   "id": "85c41c49",
   "metadata": {},
   "outputs": [
    {
     "data": {
      "text/plain": [
       "(7499, 11)"
      ]
     },
     "execution_count": 151,
     "metadata": {},
     "output_type": "execute_result"
    }
   ],
   "source": [
    "dataset.shape"
   ]
  },
  {
   "cell_type": "code",
   "execution_count": 152,
   "id": "b1fc0f81",
   "metadata": {},
   "outputs": [
    {
     "data": {
      "text/html": [
       "<div>\n",
       "<style scoped>\n",
       "    .dataframe tbody tr th:only-of-type {\n",
       "        vertical-align: middle;\n",
       "    }\n",
       "\n",
       "    .dataframe tbody tr th {\n",
       "        vertical-align: top;\n",
       "    }\n",
       "\n",
       "    .dataframe thead th {\n",
       "        text-align: right;\n",
       "    }\n",
       "</style>\n",
       "<table border=\"1\" class=\"dataframe\">\n",
       "  <thead>\n",
       "    <tr style=\"text-align: right;\">\n",
       "      <th></th>\n",
       "      <th>Prev Close</th>\n",
       "      <th>Open</th>\n",
       "      <th>High</th>\n",
       "      <th>Low</th>\n",
       "      <th>Last</th>\n",
       "      <th>Close</th>\n",
       "      <th>VWAP</th>\n",
       "      <th>Volume</th>\n",
       "      <th>Deliverable Volume</th>\n",
       "      <th>%Deliverable</th>\n",
       "    </tr>\n",
       "  </thead>\n",
       "  <tbody>\n",
       "    <tr>\n",
       "      <th>count</th>\n",
       "      <td>7499.000000</td>\n",
       "      <td>7496.000000</td>\n",
       "      <td>7495.000000</td>\n",
       "      <td>7490.000000</td>\n",
       "      <td>7489.000000</td>\n",
       "      <td>7490.000000</td>\n",
       "      <td>7488.000000</td>\n",
       "      <td>7.494000e+03</td>\n",
       "      <td>7.494000e+03</td>\n",
       "      <td>7499.000000</td>\n",
       "    </tr>\n",
       "    <tr>\n",
       "      <th>mean</th>\n",
       "      <td>1150.341952</td>\n",
       "      <td>1151.431757</td>\n",
       "      <td>1165.874229</td>\n",
       "      <td>1135.856756</td>\n",
       "      <td>1150.346074</td>\n",
       "      <td>1150.399706</td>\n",
       "      <td>1150.817202</td>\n",
       "      <td>7.314958e+06</td>\n",
       "      <td>2.889970e+06</td>\n",
       "      <td>0.415838</td>\n",
       "    </tr>\n",
       "    <tr>\n",
       "      <th>std</th>\n",
       "      <td>967.178074</td>\n",
       "      <td>968.518625</td>\n",
       "      <td>979.376460</td>\n",
       "      <td>957.713793</td>\n",
       "      <td>968.390468</td>\n",
       "      <td>968.382110</td>\n",
       "      <td>968.889051</td>\n",
       "      <td>1.074412e+07</td>\n",
       "      <td>5.325510e+06</td>\n",
       "      <td>0.166959</td>\n",
       "    </tr>\n",
       "    <tr>\n",
       "      <th>min</th>\n",
       "      <td>183.000000</td>\n",
       "      <td>184.300000</td>\n",
       "      <td>185.950000</td>\n",
       "      <td>180.750000</td>\n",
       "      <td>182.750000</td>\n",
       "      <td>183.000000</td>\n",
       "      <td>183.070000</td>\n",
       "      <td>6.324000e+03</td>\n",
       "      <td>1.290000e+03</td>\n",
       "      <td>0.045100</td>\n",
       "    </tr>\n",
       "    <tr>\n",
       "      <th>25%</th>\n",
       "      <td>367.400000</td>\n",
       "      <td>368.175000</td>\n",
       "      <td>373.400000</td>\n",
       "      <td>361.787500</td>\n",
       "      <td>366.950000</td>\n",
       "      <td>367.350000</td>\n",
       "      <td>367.462500</td>\n",
       "      <td>5.153375e+05</td>\n",
       "      <td>2.549128e+05</td>\n",
       "      <td>0.280100</td>\n",
       "    </tr>\n",
       "    <tr>\n",
       "      <th>50%</th>\n",
       "      <td>606.200000</td>\n",
       "      <td>607.700000</td>\n",
       "      <td>614.150000</td>\n",
       "      <td>595.825000</td>\n",
       "      <td>604.750000</td>\n",
       "      <td>604.350000</td>\n",
       "      <td>605.170000</td>\n",
       "      <td>3.942944e+06</td>\n",
       "      <td>1.237560e+06</td>\n",
       "      <td>0.419900</td>\n",
       "    </tr>\n",
       "    <tr>\n",
       "      <th>75%</th>\n",
       "      <td>1912.475000</td>\n",
       "      <td>1912.500000</td>\n",
       "      <td>1938.000000</td>\n",
       "      <td>1890.937500</td>\n",
       "      <td>1915.000000</td>\n",
       "      <td>1916.112500</td>\n",
       "      <td>1913.592500</td>\n",
       "      <td>9.542164e+06</td>\n",
       "      <td>3.045730e+06</td>\n",
       "      <td>0.543800</td>\n",
       "    </tr>\n",
       "    <tr>\n",
       "      <th>max</th>\n",
       "      <td>4168.950000</td>\n",
       "      <td>4168.000000</td>\n",
       "      <td>4271.150000</td>\n",
       "      <td>4117.250000</td>\n",
       "      <td>4205.000000</td>\n",
       "      <td>4201.450000</td>\n",
       "      <td>4192.410000</td>\n",
       "      <td>2.868577e+08</td>\n",
       "      <td>2.325307e+08</td>\n",
       "      <td>0.965900</td>\n",
       "    </tr>\n",
       "  </tbody>\n",
       "</table>\n",
       "</div>"
      ],
      "text/plain": [
       "        Prev Close         Open         High          Low         Last  \\\n",
       "count  7499.000000  7496.000000  7495.000000  7490.000000  7489.000000   \n",
       "mean   1150.341952  1151.431757  1165.874229  1135.856756  1150.346074   \n",
       "std     967.178074   968.518625   979.376460   957.713793   968.390468   \n",
       "min     183.000000   184.300000   185.950000   180.750000   182.750000   \n",
       "25%     367.400000   368.175000   373.400000   361.787500   366.950000   \n",
       "50%     606.200000   607.700000   614.150000   595.825000   604.750000   \n",
       "75%    1912.475000  1912.500000  1938.000000  1890.937500  1915.000000   \n",
       "max    4168.950000  4168.000000  4271.150000  4117.250000  4205.000000   \n",
       "\n",
       "             Close         VWAP        Volume  Deliverable Volume  \\\n",
       "count  7490.000000  7488.000000  7.494000e+03        7.494000e+03   \n",
       "mean   1150.399706  1150.817202  7.314958e+06        2.889970e+06   \n",
       "std     968.382110   968.889051  1.074412e+07        5.325510e+06   \n",
       "min     183.000000   183.070000  6.324000e+03        1.290000e+03   \n",
       "25%     367.350000   367.462500  5.153375e+05        2.549128e+05   \n",
       "50%     604.350000   605.170000  3.942944e+06        1.237560e+06   \n",
       "75%    1916.112500  1913.592500  9.542164e+06        3.045730e+06   \n",
       "max    4201.450000  4192.410000  2.868577e+08        2.325307e+08   \n",
       "\n",
       "       %Deliverable  \n",
       "count   7499.000000  \n",
       "mean       0.415838  \n",
       "std        0.166959  \n",
       "min        0.045100  \n",
       "25%        0.280100  \n",
       "50%        0.419900  \n",
       "75%        0.543800  \n",
       "max        0.965900  "
      ]
     },
     "execution_count": 152,
     "metadata": {},
     "output_type": "execute_result"
    }
   ],
   "source": [
    "dataset.describe()"
   ]
  },
  {
   "cell_type": "code",
   "execution_count": 153,
   "id": "4d73e004",
   "metadata": {},
   "outputs": [],
   "source": [
    "from sklearn.impute import SimpleImputer  \n",
    "imputer= SimpleImputer(missing_values =np.nan, strategy='mean')  \n",
    "imputer.fit(X[:, 1:])  \n",
    "X[:, 1:]= imputer.transform(X[:, 1:]) "
   ]
  },
  {
   "cell_type": "code",
   "execution_count": 154,
   "id": "603ef9c0",
   "metadata": {},
   "outputs": [
    {
     "data": {
      "image/png": "[encoded data removed]",
      "text/plain": [
       "<Figure size 720x360 with 5 Axes>"
      ]
     },
     "metadata": {
      "needs_background": "light"
     },
     "output_type": "display_data"
    }
   ],
   "source": [
    "plt.figure(figsize=(10,5))\n",
    "\n",
    "close_bajaj = dataset.iloc[:500, -5].values\n",
    "open_bajaj = dataset.iloc[:500, -9].values\n",
    "high_bajaj=dataset.iloc[:500, -8].values\n",
    "vol_bajaj=dataset.iloc[:100, -3].values\n",
    "low_bajaj=dataset.iloc[:500, -7].values\n",
    "\n",
    "plt.subplot(2,3,1)\n",
    "plt.title(\"Opening price(Bajaj_Auto)\", fontsize=15)\n",
    "plt.plot(open_bajaj)\n",
    "plt.ylabel(\"price\")\n",
    "\n",
    "plt.subplot(2,3,2)\n",
    "plt.title(\"Highest price(Bajaj_Auto)\", fontsize=15)\n",
    "plt.plot(high_bajaj)\n",
    "plt.ylabel(\"price\")\n",
    "\n",
    "plt.subplot(2,3,3)\n",
    "plt.title(\"lowest price(Bajaj_Auto)\", fontsize=15)\n",
    "plt.plot(low_bajaj)\n",
    "plt.ylabel(\"price\")\n",
    "\n",
    "plt.subplot(2,3,4)\n",
    "plt.title(\"closing price(Bajaj_Auto)\", fontsize=15)\n",
    "plt.plot(close_bajaj)\n",
    "plt.ylabel(\"price\")\n",
    "\n",
    "plt.subplot(2,3,5)\n",
    "plt.title(\"Volume(Bajaj_Auto)\", fontsize=15)\n",
    "plt.plot(vol_bajaj)\n",
    "plt.ylabel(\"price\")\n",
    "\n",
    "plt.tight_layout(pad=1.0)\n",
    "plt.show()"
   ]
  },
  {
   "cell_type": "code",
   "execution_count": 155,
   "id": "54cbbd7f",
   "metadata": {},
   "outputs": [
    {
     "data": {
      "image/png": "[encoded data removed]",
      "text/plain": [
       "<Figure size 1440x720 with 5 Axes>"
      ]
     },
     "metadata": {
      "needs_background": "light"
     },
     "output_type": "display_data"
    }
   ],
   "source": [
    "features = ['Open', 'High', 'Low', 'Close', 'Volume']\n",
    " \n",
    "plt.subplots(figsize=(20,10))\n",
    " \n",
    "for i, col in enumerate(features):\n",
    "  plt.subplot(2,3,i+1)\n",
    "  sb.histplot(dataset[col])\n",
    "plt.show()"
   ]
  },
  {
   "cell_type": "code",
   "execution_count": 156,
   "id": "af4fd4cd",
   "metadata": {},
   "outputs": [
    {
     "data": {
      "image/png": "[encoded data removed]",
      "text/plain": [
       "<Figure size 432x288 with 1 Axes>"
      ]
     },
     "metadata": {
      "needs_background": "light"
     },
     "output_type": "display_data"
    }
   ],
   "source": [
    "sns.heatmap(dataset.corr(),\n",
    "            annot=True,\n",
    "            cbar=False)\n",
    "plt.show()"
   ]
  },
  {
   "cell_type": "code",
   "execution_count": 157,
   "id": "6fe1d13b",
   "metadata": {},
   "outputs": [],
   "source": [
    "from sklearn.compose import ColumnTransformer\n",
    "from sklearn.preprocessing import OneHotEncoder\n",
    "ct=ColumnTransformer(transformers=[('encoder',OneHotEncoder(),[0])],remainder='passthrough')\n",
    "X=np.array(ct.fit_transform(X))\n"
   ]
  },
  {
   "cell_type": "code",
   "execution_count": 158,
   "id": "1c6c3787",
   "metadata": {},
   "outputs": [
    {
     "name": "stdout",
     "output_type": "stream",
     "text": [
      "[1.0 0.0 0.0 1541.0 1557.0 1564.65 1470.0 1474.95 1476.5 1499.5 982492.0\n",
      " 2889970.251534561]\n"
     ]
    }
   ],
   "source": [
    "print(X[0])"
   ]
  },
  {
   "cell_type": "code",
   "execution_count": 159,
   "id": "31ea30b0",
   "metadata": {},
   "outputs": [],
   "source": [
    "X_a = dataset.iloc[:, 1:-1].values"
   ]
  },
  {
   "cell_type": "code",
   "execution_count": 160,
   "id": "1f63c73f",
   "metadata": {},
   "outputs": [],
   "source": [
    "from sklearn.model_selection import train_test_split\n",
    "X_train, X_test, y_train, y_test = train_test_split(X, y, test_size = 0.2, random_state = 0)"
   ]
  },
  {
   "cell_type": "code",
   "execution_count": 161,
   "id": "cecae961",
   "metadata": {},
   "outputs": [
    {
     "name": "stdout",
     "output_type": "stream",
     "text": [
      "[[1.0 0.0 0.0 ... 2888.38 165523.0 84052.0]\n",
      " [0.0 0.0 1.0 ... 414.91 2771223.0 721174.0]\n",
      " [0.0 0.0 1.0 ... 541.6 17025425.0 4370219.0]\n",
      " ...\n",
      " [1.0 0.0 0.0 ... 2864.81 301774.0 57356.0]\n",
      " [1.0 0.0 0.0 ... 1248.21 387073.0 271294.0]\n",
      " [0.0 1.0 0.0 ... 398.24 10493872.0 4743671.0]]\n"
     ]
    }
   ],
   "source": [
    "print(X_test)\n"
   ]
  },
  {
   "cell_type": "code",
   "execution_count": 162,
   "id": "65b6389a",
   "metadata": {},
   "outputs": [
    {
     "data": {
      "text/plain": [
       "LinearRegression()"
      ]
     },
     "execution_count": 162,
     "metadata": {},
     "output_type": "execute_result"
    }
   ],
   "source": [
    "from sklearn.linear_model import LinearRegression\n",
    "regressor_m=LinearRegression()\n",
    "regressor_m.fit(X_train,y_train)"
   ]
  },
  {
   "cell_type": "code",
   "execution_count": 163,
   "id": "34fc3ac8",
   "metadata": {},
   "outputs": [
    {
     "data": {
      "text/plain": [
       "RandomForestRegressor(n_estimators=10, random_state=0)"
      ]
     },
     "execution_count": 163,
     "metadata": {},
     "output_type": "execute_result"
    }
   ],
   "source": [
    "from sklearn.ensemble import RandomForestRegressor\n",
    "regressor_r = RandomForestRegressor(n_estimators = 10, random_state = 0)\n",
    "regressor_r.fit(X_train, y_train)"
   ]
  },
  {
   "cell_type": "code",
   "execution_count": 164,
   "id": "59e334d5",
   "metadata": {},
   "outputs": [
    {
     "data": {
      "text/plain": [
       "LinearRegression()"
      ]
     },
     "execution_count": 164,
     "metadata": {},
     "output_type": "execute_result"
    }
   ],
   "source": [
    "\n",
    "from sklearn.preprocessing import PolynomialFeatures\n",
    "poly_reg = PolynomialFeatures(degree =2 )\n",
    "X_poly = poly_reg.fit_transform(X_train)\n",
    "regressor_P = LinearRegression()\n",
    "regressor_P.fit(X_poly, y_train)"
   ]
  },
  {
   "cell_type": "markdown",
   "id": "7eb50150",
   "metadata": {},
   "source": [
    "# Polynomial Regression"
   ]
  },
  {
   "cell_type": "code",
   "execution_count": 165,
   "id": "20f416a9",
   "metadata": {},
   "outputs": [
    {
     "name": "stdout",
     "output_type": "stream",
     "text": [
      "[[0.4513 0.5078]\n",
      " [0.2869 0.2602]\n",
      " [0.2563 0.2567]\n",
      " ...\n",
      " [0.361  0.1901]\n",
      " [0.5331 0.7009]\n",
      " [0.4419 0.452 ]]\n"
     ]
    }
   ],
   "source": [
    "y_pred_P = regressor_P.predict(poly_reg.transform(X_test))\n",
    "np.set_printoptions(precision=4)\n",
    "print(np.concatenate((y_pred_P.reshape(len(y_pred_P),1), y_test.reshape(len(y_test),1)),1))"
   ]
  },
  {
   "cell_type": "code",
   "execution_count": 166,
   "id": "50254856",
   "metadata": {},
   "outputs": [
    {
     "name": "stdout",
     "output_type": "stream",
     "text": [
      "R2 Score is 0.40369757066484313\n"
     ]
    }
   ],
   "source": [
    "from sklearn.metrics import r2_score\n",
    "r2_P=r2_score(y_test,y_pred_P)\n",
    "print(\"R2 Score is\",r2_P)"
   ]
  },
  {
   "cell_type": "code",
   "execution_count": 167,
   "id": "6123d0cf",
   "metadata": {},
   "outputs": [
    {
     "name": "stdout",
     "output_type": "stream",
     "text": [
      "The difference between actual and predicted values 0.12736556493211904\n"
     ]
    }
   ],
   "source": [
    "from sklearn.metrics import mean_squared_error\n",
    "mse = mean_squared_error(y_test, y_pred_P)  \n",
    "rmse = math.sqrt(mse)  \n",
    "print(\"The difference between actual and predicted values\", rmse)  "
   ]
  },
  {
   "cell_type": "markdown",
   "id": "69749812",
   "metadata": {},
   "source": [
    "## Random forest regression"
   ]
  },
  {
   "cell_type": "code",
   "execution_count": 168,
   "id": "78534632",
   "metadata": {},
   "outputs": [
    {
     "name": "stdout",
     "output_type": "stream",
     "text": [
      "[[0.52 0.51]\n",
      " [0.27 0.26]\n",
      " [0.25 0.26]\n",
      " ...\n",
      " [0.21 0.19]\n",
      " [0.71 0.7 ]\n",
      " [0.46 0.45]]\n"
     ]
    }
   ],
   "source": [
    "y_pred_r=regressor_r.predict(X_test)\n",
    "np.set_printoptions(precision=2)\n",
    "print(np.concatenate((y_pred_r.reshape(len(y_pred_r),1),y_test.reshape(len(y_pred_r),1)),1))"
   ]
  },
  {
   "cell_type": "code",
   "execution_count": 169,
   "id": "e52b85a4",
   "metadata": {},
   "outputs": [
    {
     "name": "stdout",
     "output_type": "stream",
     "text": [
      "R2 Score is 0.965673106178486\n"
     ]
    }
   ],
   "source": [
    "from sklearn.metrics import r2_score\n",
    "r2_RF=r2_score(y_test,y_pred_r)\n",
    "print(\"R2 Score is\",r2_RF)"
   ]
  },
  {
   "cell_type": "code",
   "execution_count": 170,
   "id": "310969f4",
   "metadata": {},
   "outputs": [
    {
     "name": "stdout",
     "output_type": "stream",
     "text": [
      "The difference between actual and predicted values 0.030558778479077554\n"
     ]
    }
   ],
   "source": [
    "from sklearn.metrics import mean_squared_error\n",
    "mse = mean_squared_error(y_test, y_pred_r) \n",
    "  \n",
    "rmse = math.sqrt(mse)  \n",
    "  \n",
    "print(\"The difference between actual and predicted values\", rmse)  "
   ]
  },
  {
   "cell_type": "code",
   "execution_count": 171,
   "id": "bbe8255d",
   "metadata": {},
   "outputs": [
    {
     "name": "stdout",
     "output_type": "stream",
     "text": [
      "[0.63]\n"
     ]
    }
   ],
   "source": [
    "print(regressor_r.predict([[0, 1, 0, 1541, 1557, 1564.65, 1470, 1474.95, 1476.5, 1499.5, 982492, 577454]]))"
   ]
  },
  {
   "cell_type": "markdown",
   "id": "6143a58f",
   "metadata": {},
   "source": [
    "## Multiple regression "
   ]
  },
  {
   "cell_type": "code",
   "execution_count": 172,
   "id": "ef39abf5",
   "metadata": {},
   "outputs": [
    {
     "name": "stdout",
     "output_type": "stream",
     "text": [
      "[[0.46 0.51]\n",
      " [0.3  0.26]\n",
      " [0.2  0.26]\n",
      " ...\n",
      " [0.41 0.19]\n",
      " [0.59 0.7 ]\n",
      " [0.52 0.45]]\n"
     ]
    }
   ],
   "source": [
    "y_pred_m=regressor_m.predict(X_test)\n",
    "np.set_printoptions(precision=2)\n",
    "print(np.concatenate((y_pred_m.reshape(len(y_pred_m),1),y_test.reshape(len(y_pred_m),1)),1))"
   ]
  },
  {
   "cell_type": "code",
   "execution_count": 173,
   "id": "f3ae02b1",
   "metadata": {},
   "outputs": [
    {
     "name": "stdout",
     "output_type": "stream",
     "text": [
      "R2 Score is 0.563110381367402\n"
     ]
    }
   ],
   "source": [
    "from sklearn.metrics import r2_score\n",
    "r2_M=r2_score(y_test,y_pred_m)\n",
    "print(\"R2 Score is\",r2_M)"
   ]
  },
  {
   "cell_type": "code",
   "execution_count": 174,
   "id": "38ce48b3",
   "metadata": {},
   "outputs": [
    {
     "name": "stdout",
     "output_type": "stream",
     "text": [
      "The difference between actual and predicted values 0.10901960382926534\n"
     ]
    }
   ],
   "source": [
    "from sklearn.metrics import mean_squared_error\n",
    "mse = mean_squared_error(y_test, y_pred_m) \n",
    "  \n",
    "rmse = math.sqrt(mse)  \n",
    "  \n",
    "print(\"The difference between actual and predicted values\", rmse)  "
   ]
  },
  {
   "cell_type": "markdown",
   "id": "58d0d281",
   "metadata": {},
   "source": [
    "# Prediction"
   ]
  },
  {
   "cell_type": "code",
   "execution_count": 175,
   "id": "f25afae1",
   "metadata": {},
   "outputs": [
    {
     "name": "stdout",
     "output_type": "stream",
     "text": [
      "% Deliverable is [0.63]\n"
     ]
    }
   ],
   "source": [
    "if r2_M>r2_RF and r2_M>r2_P:\n",
    "    print(\"% Deliverable is\",regressor_m.predict([[0, 1, 0, 1541, 1557, 1564.65, 1470, 1474.95, 1476.5, 1499.5, 982492, 577454]]))\n",
    "elif r2_RF>r2_M and r2_RF>r2_P:\n",
    "    print(\"% Deliverable is\",regressor_r.predict([[0, 1, 0, 1541, 1557, 1564.65, 1470, 1474.95, 1476.5, 1499.5, 982492, 577454]]))\n",
    "else:\n",
    "    print(\"% Deliverable is\",regressor_P.predict([[0, 1, 0, 1541, 1557, 1564.65, 1470, 1474.95, 1476.5, 1499.5, 982492, 577454]]))"
   ]
  },
  {
   "cell_type": "code",
   "execution_count": 180,
   "id": "156a7c4b",
   "metadata": {},
   "outputs": [
    {
     "data": {
      "image/png": "[encoded data removed]",
      "text/plain": [
       "<Figure size 432x288 with 1 Axes>"
      ]
     },
     "metadata": {
      "needs_background": "light"
     },
     "output_type": "display_data"
    }
   ],
   "source": [
    "plt.scatter(X[:20, 8], y[:20], color = 'pink',s = 50,edgecolor =\"green\",marker =\"s\")\n",
    "plt.scatter(X[:20, 9], y[:20], color = 'red',s = 50,edgecolor =\"red\",marker =\"^\")\n",
    "#plt.plot(X, regressor_r.predict(X), color = 'blue')\n",
    "plt.title('chart')\n",
    "plt.xlabel('X axis')\n",
    "plt.ylabel('%deliverable')\n",
    "\n",
    "plt.legend(['volume','deliverable'])\n",
    "plt.show()"
   ]
  },
  {
   "cell_type": "code",
   "execution_count": null,
   "id": "35593f58",
   "metadata": {},
   "outputs": [],
   "source": []
  },
  {
   "cell_type": "code",
   "execution_count": null,
   "id": "2ea3486a",
   "metadata": {},
   "outputs": [],
   "source": []
  }
 ],
 "metadata": {
  "kernelspec": {
   "display_name": "Python 3 (ipykernel)",
   "language": "python",
   "name": "python3"
  },
  "language_info": {
   "codemirror_mode": {
    "name": "ipython",
    "version": 3
   },
   "file_extension": ".py",
   "mimetype": "text/x-python",
   "name": "python",
   "nbconvert_exporter": "python",
   "pygments_lexer": "ipython3",
   "version": "3.9.7"
  }
 },
 "nbformat": 4,
 "nbformat_minor": 5
}
